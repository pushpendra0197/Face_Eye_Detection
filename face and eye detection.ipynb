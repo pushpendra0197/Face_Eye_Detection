{
 "cells": [
  {
   "cell_type": "code",
   "execution_count": 1,
   "id": "683e8539-8e33-48eb-827d-44759658e656",
   "metadata": {},
   "outputs": [],
   "source": [
    "import  cv2\n",
    "import numpy as np"
   ]
  },
  {
   "cell_type": "code",
   "execution_count": 2,
   "id": "5f1c5a40-2729-4a14-9dfd-0cebbbb98780",
   "metadata": {},
   "outputs": [],
   "source": [
    "import matplotlib.pyplot as plt\n",
    "import cv2\n",
    "import numpy as np\n",
    "from IPython.display import display, Image\n",
    "import ipywidgets as widgets\n",
    "import threading"
   ]
  },
  {
   "cell_type": "code",
   "execution_count": 3,
   "id": "d69a969d-ba4f-4d67-b62e-6bdd064cf430",
   "metadata": {},
   "outputs": [],
   "source": []
  },
  {
   "cell_type": "code",
   "execution_count": 23,
   "id": "f5e01491-d081-4489-863c-22ee444f2506",
   "metadata": {},
   "outputs": [
    {
     "data": {
      "text/plain": [
       "-1"
      ]
     },
     "execution_count": 23,
     "metadata": {},
     "output_type": "execute_result"
    }
   ],
   "source": [
    "def eye_face():\n",
    "  face_c=cv2.CascadeClassifier(r\"D:\\haarcascade_frontalface_default.xml\")\n",
    "  eye_cascade = cv2.CascadeClassifier(r\"D:\\haarcascade_eye.xml\")\n",
    "\n",
    "cap = cv2.VideoCapture(0)\n",
    "cap.set(3,640) # adjust width\n",
    "cap.set(4,480) # adjust height\n",
    "\n",
    "while True:\n",
    "    success, img = cap.read()\n",
    "    img=cv2.flip(img,1)\n",
    "    gray=cv2.cvtColor(img,cv2.COLOR_BGR2GRAY)\n",
    "    faces=face_c.detectMultiScale(gray,1.5)\n",
    "    for x,y,w,h in faces:\n",
    "      cv2.rectangle(img,(x,y),(x+w,y+h),(0,255,0),2)\n",
    "    eye_gray=gray[y:y+h,x:x+w]\n",
    "    eye_color=img[y:y+h,x:x+w]\n",
    "    eyes = eye_cascade.detectMultiScale(eye_gray,2.2)\n",
    "    for ex,ey,ew,eh in eyes:\n",
    "        cv2.rectangle(eye_color,(ex,ey),(ex+ew,ey+eh),(0,255,0),1)\n",
    "        \n",
    "    \n",
    "    cv2.imshow(\"Webcam\", img) \n",
    "    \n",
    "    if cv2.waitKey(1) & 0xFF==ord('q'): \n",
    "        cap.release()\n",
    "        break\n",
    "        \n",
    "cv2.destroyAllWindows() \n",
    "cv2.waitKey(1) "
   ]
  }
 ],
 "metadata": {
  "kernelspec": {
   "display_name": "Python 3 (ipykernel)",
   "language": "python",
   "name": "python3"
  },
  "language_info": {
   "codemirror_mode": {
    "name": "ipython",
    "version": 3
   },
   "file_extension": ".py",
   "mimetype": "text/x-python",
   "name": "python",
   "nbconvert_exporter": "python",
   "pygments_lexer": "ipython3",
   "version": "3.12.4"
  }
 },
 "nbformat": 4,
 "nbformat_minor": 5
}
